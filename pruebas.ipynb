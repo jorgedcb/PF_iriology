{
 "cells": [
  {
   "cell_type": "code",
   "execution_count": null,
   "metadata": {},
   "outputs": [],
   "source": [
    "img = cv2.imread(self._img_path)"
   ]
  }
 ],
 "metadata": {
  "kernelspec": {
   "display_name": "Python 3.10.6 64-bit",
   "language": "python",
   "name": "python3"
  },
  "language_info": {
   "name": "python",
   "version": "3.10.6"
  },
  "orig_nbformat": 4,
  "vscode": {
   "interpreter": {
    "hash": "ca2584a6cb8202578bd37698f4dd781bb19df68f7b99ac49aa31d1ffa0f5078f"
   }
  }
 },
 "nbformat": 4,
 "nbformat_minor": 2
}
